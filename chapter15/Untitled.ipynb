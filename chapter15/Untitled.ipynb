{
 "cells": [
  {
   "cell_type": "code",
   "execution_count": 7,
   "id": "03bfa3a3-4884-4db2-ab8b-4650b884eda4",
   "metadata": {},
   "outputs": [
    {
     "name": "stdout",
     "output_type": "stream",
     "text": [
      "<__main__.MyCM object at 0x1038939c8>\n",
      "hi\n"
     ]
    }
   ],
   "source": [
    "class MyCM:\n",
    "    def hi(self):\n",
    "        print('hi');\n",
    "    \n",
    "    def __enter__(self):\n",
    "        return self\n",
    "    \n",
    "    def __exit__(self, exc_type, exc_value, traceback):\n",
    "        return\n",
    "    \n",
    "\n",
    "with MyCM() as cm:\n",
    "    print(cm)\n",
    "    cm.hi()"
   ]
  },
  {
   "cell_type": "code",
   "execution_count": null,
   "id": "423ac410-7a98-421b-a38b-02d4675bfcf3",
   "metadata": {},
   "outputs": [],
   "source": []
  }
 ],
 "metadata": {
  "kernelspec": {
   "display_name": "Python 3 (ipykernel)",
   "language": "python",
   "name": "python3"
  },
  "language_info": {
   "codemirror_mode": {
    "name": "ipython",
    "version": 3
   },
   "file_extension": ".py",
   "mimetype": "text/x-python",
   "name": "python",
   "nbconvert_exporter": "python",
   "pygments_lexer": "ipython3",
   "version": "3.7.13"
  }
 },
 "nbformat": 4,
 "nbformat_minor": 5
}
