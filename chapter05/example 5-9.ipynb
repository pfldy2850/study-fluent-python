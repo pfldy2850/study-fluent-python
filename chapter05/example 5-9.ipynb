{
 "cells": [
  {
   "cell_type": "code",
   "execution_count": 1,
   "id": "9e98fc43",
   "metadata": {},
   "outputs": [],
   "source": [
    "def factorial(n):\n",
    "    '''return n!'''\n",
    "    return 1 if n < 2 else n * factorial(n-1)"
   ]
  },
  {
   "cell_type": "code",
   "execution_count": 3,
   "id": "f4ac9c7a",
   "metadata": {},
   "outputs": [
    {
     "name": "stdout",
     "output_type": "stream",
     "text": [
      "['__annotations__', '__call__', '__class__', '__closure__', '__code__', '__defaults__', '__delattr__', '__dict__', '__dir__', '__doc__', '__eq__', '__format__', '__ge__', '__get__', '__getattribute__', '__globals__', '__gt__', '__hash__', '__init__', '__init_subclass__', '__kwdefaults__', '__le__', '__lt__', '__module__', '__name__', '__ne__', '__new__', '__qualname__', '__reduce__', '__reduce_ex__', '__repr__', '__setattr__', '__sizeof__', '__str__', '__subclasshook__']\n"
     ]
    }
   ],
   "source": [
    "print(dir(factorial))"
   ]
  },
  {
   "cell_type": "code",
   "execution_count": 9,
   "id": "d3b621f0",
   "metadata": {},
   "outputs": [
    {
     "data": {
      "text/plain": [
       "{'short_description': 'Customer name'}"
      ]
     },
     "execution_count": 9,
     "metadata": {},
     "output_type": "execute_result"
    }
   ],
   "source": [
    "def upper_case_name(obj):\n",
    "    return (\"%s %s\" % (obj.first_name, obj.last_name)).upper()\n",
    "upper_case_name.short_description = 'Customer name'\n",
    "upper_case_name.__dict__"
   ]
  },
  {
   "cell_type": "code",
   "execution_count": 13,
   "id": "2683ed61",
   "metadata": {},
   "outputs": [
    {
     "name": "stdout",
     "output_type": "stream",
     "text": [
      "['__annotations__', '__call__', '__closure__', '__code__', '__defaults__', '__get__', '__globals__', '__kwdefaults__', '__name__', '__qualname__']\n"
     ]
    }
   ],
   "source": [
    "class C: pass\n",
    "obj = C()\n",
    "def func(): pass\n",
    "print(sorted(set(dir(func)) - set(dir(obj))))"
   ]
  },
  {
   "cell_type": "code",
   "execution_count": null,
   "id": "54263f32",
   "metadata": {},
   "outputs": [],
   "source": []
  }
 ],
 "metadata": {
  "kernelspec": {
   "display_name": "Python 3 (ipykernel)",
   "language": "python",
   "name": "python3"
  },
  "language_info": {
   "codemirror_mode": {
    "name": "ipython",
    "version": 3
   },
   "file_extension": ".py",
   "mimetype": "text/x-python",
   "name": "python",
   "nbconvert_exporter": "python",
   "pygments_lexer": "ipython3",
   "version": "3.7.13"
  }
 },
 "nbformat": 4,
 "nbformat_minor": 5
}
