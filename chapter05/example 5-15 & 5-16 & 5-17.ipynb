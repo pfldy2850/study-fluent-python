{
 "cells": [
  {
   "cell_type": "code",
   "execution_count": 1,
   "id": "fffcb535",
   "metadata": {},
   "outputs": [],
   "source": [
    "def clip(text, max_len=80):\n",
    "    \"\"\"max_len 앞이나 뒤의 마지막 공백에서 잘라낸 텍스트를 반환한다.\n",
    "    \"\"\"\n",
    "    \n",
    "    end = None\n",
    "    if len(text) > max_len:\n",
    "        space_before = text.rfind(' ', 0, max_len)\n",
    "        if space_before >= 0:\n",
    "            end = space_before\n",
    "        else:\n",
    "            space_after = text.rfind(' ', max_len)\n",
    "            if space_after >= 0:\n",
    "                end = space_after\n",
    "    if end is None: # 공백이 없으면\n",
    "         end = len(text)\n",
    "    return text[:end].rstrip()"
   ]
  },
  {
   "cell_type": "code",
   "execution_count": 2,
   "id": "9fb92877",
   "metadata": {},
   "outputs": [
    {
     "data": {
      "text/plain": [
       "(80,)"
      ]
     },
     "execution_count": 2,
     "metadata": {},
     "output_type": "execute_result"
    }
   ],
   "source": [
    "clip.__defaults__"
   ]
  },
  {
   "cell_type": "code",
   "execution_count": 3,
   "id": "347b2491",
   "metadata": {},
   "outputs": [
    {
     "data": {
      "text/plain": [
       "<code object clip at 0x1039ad810, file \"/var/folders/vx/mh5ks3lj40n5k5r7sb27yq9r0000gn/T/ipykernel_5097/726251701.py\", line 1>"
      ]
     },
     "execution_count": 3,
     "metadata": {},
     "output_type": "execute_result"
    }
   ],
   "source": [
    "clip.__code__"
   ]
  },
  {
   "cell_type": "code",
   "execution_count": 4,
   "id": "a77f9476",
   "metadata": {},
   "outputs": [
    {
     "data": {
      "text/plain": [
       "('text', 'max_len', 'end', 'space_before', 'space_after')"
      ]
     },
     "execution_count": 4,
     "metadata": {},
     "output_type": "execute_result"
    }
   ],
   "source": [
    "clip.__code__.co_varnames"
   ]
  },
  {
   "cell_type": "code",
   "execution_count": 5,
   "id": "4b85e35c",
   "metadata": {},
   "outputs": [
    {
     "data": {
      "text/plain": [
       "2"
      ]
     },
     "execution_count": 5,
     "metadata": {},
     "output_type": "execute_result"
    }
   ],
   "source": [
    "clip.__code__.co_argcount"
   ]
  },
  {
   "cell_type": "code",
   "execution_count": 7,
   "id": "5520dc95",
   "metadata": {},
   "outputs": [
    {
     "data": {
      "text/plain": [
       "<Signature (text, max_len=80)>"
      ]
     },
     "execution_count": 7,
     "metadata": {},
     "output_type": "execute_result"
    }
   ],
   "source": [
    "from inspect import signature\n",
    "sig = signature(clip)\n",
    "sig"
   ]
  },
  {
   "cell_type": "code",
   "execution_count": 8,
   "id": "71aec2c2",
   "metadata": {},
   "outputs": [
    {
     "data": {
      "text/plain": [
       "'(text, max_len=80)'"
      ]
     },
     "execution_count": 8,
     "metadata": {},
     "output_type": "execute_result"
    }
   ],
   "source": [
    "str(sig)"
   ]
  },
  {
   "cell_type": "code",
   "execution_count": 9,
   "id": "4ea3bf47",
   "metadata": {},
   "outputs": [
    {
     "name": "stdout",
     "output_type": "stream",
     "text": [
      "POSITIONAL_OR_KEYWORD : text = <class 'inspect._empty'>\n",
      "POSITIONAL_OR_KEYWORD : max_len = 80\n"
     ]
    }
   ],
   "source": [
    "for name, param in sig.parameters.items():\n",
    "    print(param.kind, ':', name, '=', param.default)"
   ]
  },
  {
   "cell_type": "code",
   "execution_count": null,
   "id": "25f9c946",
   "metadata": {},
   "outputs": [],
   "source": []
  }
 ],
 "metadata": {
  "kernelspec": {
   "display_name": "Python 3 (ipykernel)",
   "language": "python",
   "name": "python3"
  },
  "language_info": {
   "codemirror_mode": {
    "name": "ipython",
    "version": 3
   },
   "file_extension": ".py",
   "mimetype": "text/x-python",
   "name": "python",
   "nbconvert_exporter": "python",
   "pygments_lexer": "ipython3",
   "version": "3.7.13"
  }
 },
 "nbformat": 4,
 "nbformat_minor": 5
}
