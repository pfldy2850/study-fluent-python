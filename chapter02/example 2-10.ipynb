{
 "cells": [
  {
   "cell_type": "markdown",
   "id": "e2609956",
   "metadata": {},
   "source": [
    "<b>예제 2-10</b> 명명된 튜플의 속성과 메서드"
   ]
  },
  {
   "cell_type": "code",
   "execution_count": 1,
   "id": "d7ead3ba",
   "metadata": {},
   "outputs": [],
   "source": [
    "from collections import namedtuple\n",
    "City = namedtuple('City', 'name country population coordinates')\n",
    "tokyo = City('Tokyo', 'JP', 36.933, (35.689722, 139.691667))"
   ]
  },
  {
   "cell_type": "code",
   "execution_count": 2,
   "id": "b033feef",
   "metadata": {},
   "outputs": [
    {
     "data": {
      "text/plain": [
       "('name', 'country', 'population', 'coordinates')"
      ]
     },
     "execution_count": 2,
     "metadata": {},
     "output_type": "execute_result"
    }
   ],
   "source": [
    "City._fields"
   ]
  },
  {
   "cell_type": "code",
   "execution_count": 3,
   "id": "d5799a6e",
   "metadata": {},
   "outputs": [
    {
     "data": {
      "text/plain": [
       "OrderedDict([('name', 'Delhi NCR'),\n",
       "             ('country', 'IN'),\n",
       "             ('population', 21.935),\n",
       "             ('coordinates', LatLong(lat=28.613889, long=77.208889))])"
      ]
     },
     "execution_count": 3,
     "metadata": {},
     "output_type": "execute_result"
    }
   ],
   "source": [
    "LatLong = namedtuple('LatLong', 'lat long')\n",
    "delhi_data = ('Delhi NCR', 'IN', 21.935, LatLong(28.613889, 77.208889))\n",
    "delhi = City._make(delhi_data)\n",
    "delhi._asdict()"
   ]
  },
  {
   "cell_type": "code",
   "execution_count": 5,
   "id": "40eb6f6c",
   "metadata": {},
   "outputs": [
    {
     "name": "stdout",
     "output_type": "stream",
     "text": [
      "name: Delhi NCR\n",
      "country: IN\n",
      "population: 21.935\n",
      "coordinates: LatLong(lat=28.613889, long=77.208889)\n"
     ]
    }
   ],
   "source": [
    "for key, value in delhi._asdict().items():\n",
    "    print(key + \":\", value)"
   ]
  },
  {
   "cell_type": "code",
   "execution_count": null,
   "id": "b665fd1d",
   "metadata": {},
   "outputs": [],
   "source": []
  }
 ],
 "metadata": {
  "kernelspec": {
   "display_name": "Python 3 (ipykernel)",
   "language": "python",
   "name": "python3"
  },
  "language_info": {
   "codemirror_mode": {
    "name": "ipython",
    "version": 3
   },
   "file_extension": ".py",
   "mimetype": "text/x-python",
   "name": "python",
   "nbconvert_exporter": "python",
   "pygments_lexer": "ipython3",
   "version": "3.7.13"
  }
 },
 "nbformat": 4,
 "nbformat_minor": 5
}
