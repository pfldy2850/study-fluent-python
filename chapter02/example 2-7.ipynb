{
 "cells": [
  {
   "cell_type": "markdown",
   "id": "07ba9f8a",
   "metadata": {},
   "source": [
    "<b>예제 2-7</b> 레코드로 사용된 튜플"
   ]
  },
  {
   "cell_type": "code",
   "execution_count": 1,
   "id": "ebf74991",
   "metadata": {},
   "outputs": [
    {
     "name": "stdout",
     "output_type": "stream",
     "text": [
      "BRA/CE342576\n",
      "ESP/XDA20581\n",
      "USA/31195855\n"
     ]
    }
   ],
   "source": [
    "lax_coordinates = (33.9425, -118.408056)\n",
    "city, year, pop, chg, area = ('Tokyo', 2003, 32450, 0.66, 8014)\n",
    "traveler_ids = [\n",
    "    ('USA', '31195855'),\n",
    "    ('BRA', 'CE342576'),\n",
    "    ('ESP', 'XDA20581')\n",
    "]\n",
    "for passport in sorted(traveler_ids):\n",
    "    print('%s/%s' % passport)"
   ]
  },
  {
   "cell_type": "code",
   "execution_count": 2,
   "id": "96d87b3f",
   "metadata": {},
   "outputs": [
    {
     "name": "stdout",
     "output_type": "stream",
     "text": [
      "USA\n",
      "BRA\n",
      "ESP\n"
     ]
    }
   ],
   "source": [
    "for country, _ in traveler_ids:\n",
    "    print(country)"
   ]
  },
  {
   "cell_type": "markdown",
   "id": "a935a7e8",
   "metadata": {},
   "source": [
    "----\n",
    "튜플 언패킹은 병렬 할당(parallel assignment)를 할 때 가장 눈에 띈다."
   ]
  },
  {
   "cell_type": "code",
   "execution_count": 3,
   "id": "9bb8cee2",
   "metadata": {},
   "outputs": [],
   "source": [
    "lax_coordinates = (33.9425, -118.408056)\n",
    "latitude, longitude = lax_coordinates"
   ]
  },
  {
   "cell_type": "code",
   "execution_count": 4,
   "id": "b35f5a70",
   "metadata": {},
   "outputs": [
    {
     "data": {
      "text/plain": [
       "33.9425"
      ]
     },
     "execution_count": 4,
     "metadata": {},
     "output_type": "execute_result"
    }
   ],
   "source": [
    "latitude"
   ]
  },
  {
   "cell_type": "code",
   "execution_count": 5,
   "id": "93659788",
   "metadata": {},
   "outputs": [
    {
     "data": {
      "text/plain": [
       "-118.408056"
      ]
     },
     "execution_count": 5,
     "metadata": {},
     "output_type": "execute_result"
    }
   ],
   "source": [
    "longitude"
   ]
  },
  {
   "cell_type": "markdown",
   "id": "a30a61ee",
   "metadata": {},
   "source": [
    "----\n",
    "튜플 언패킹을 이용하면 임시 변수를 사용하지 않고도 두 변수의 값을 서로 교환할 수 있다."
   ]
  },
  {
   "cell_type": "code",
   "execution_count": 7,
   "id": "a1784aa2",
   "metadata": {},
   "outputs": [
    {
     "data": {
      "text/plain": [
       "('B', 'A')"
      ]
     },
     "execution_count": 7,
     "metadata": {},
     "output_type": "execute_result"
    }
   ],
   "source": [
    "a, b = ('A', 'B')\n",
    "a, b = b, a\n",
    "a, b"
   ]
  },
  {
   "cell_type": "markdown",
   "id": "6bb65bc0",
   "metadata": {},
   "source": [
    "----\n",
    "인수 앞에 `*`을 붙여 튜플을 언패킹할 수 있다."
   ]
  },
  {
   "cell_type": "code",
   "execution_count": 8,
   "id": "b9fa2f51",
   "metadata": {},
   "outputs": [
    {
     "data": {
      "text/plain": [
       "(2, 4)"
      ]
     },
     "execution_count": 8,
     "metadata": {},
     "output_type": "execute_result"
    }
   ],
   "source": [
    "divmod(20, 8)"
   ]
  },
  {
   "cell_type": "code",
   "execution_count": 9,
   "id": "2ae282e2",
   "metadata": {},
   "outputs": [
    {
     "data": {
      "text/plain": [
       "(2, 4)"
      ]
     },
     "execution_count": 9,
     "metadata": {},
     "output_type": "execute_result"
    }
   ],
   "source": [
    "t = (20, 8)\n",
    "divmod(*t)"
   ]
  },
  {
   "cell_type": "code",
   "execution_count": 10,
   "id": "35cb99be",
   "metadata": {},
   "outputs": [
    {
     "data": {
      "text/plain": [
       "(2, 4)"
      ]
     },
     "execution_count": 10,
     "metadata": {},
     "output_type": "execute_result"
    }
   ],
   "source": [
    "quotient, remainder = divmod(*t)\n",
    "quotient, remainder"
   ]
  },
  {
   "cell_type": "markdown",
   "id": "33504ef3",
   "metadata": {},
   "source": [
    "----\n",
    "`os.path.split()` 함수를 이용해서 파일시스템 경로에서 경로명과 파일명을 가져올 수 있다."
   ]
  },
  {
   "cell_type": "code",
   "execution_count": 11,
   "id": "be247ff8",
   "metadata": {},
   "outputs": [
    {
     "data": {
      "text/plain": [
       "('/home/luciano/.ssh', 'idrsa.pub')"
      ]
     },
     "execution_count": 11,
     "metadata": {},
     "output_type": "execute_result"
    }
   ],
   "source": [
    "import os\n",
    "filedir, filename = os.path.split('/home/luciano/.ssh/idrsa.pub')\n",
    "filedir, filename"
   ]
  },
  {
   "cell_type": "markdown",
   "id": "9e69bae7",
   "metadata": {},
   "source": [
    "----\n",
    "초과 항목을 잡기 위해 `*` 사용하기"
   ]
  },
  {
   "cell_type": "code",
   "execution_count": 12,
   "id": "78625c65",
   "metadata": {},
   "outputs": [
    {
     "data": {
      "text/plain": [
       "(0, 1, [2, 3, 4])"
      ]
     },
     "execution_count": 12,
     "metadata": {},
     "output_type": "execute_result"
    }
   ],
   "source": [
    "a, b, *rest = range(5)\n",
    "a, b, rest"
   ]
  },
  {
   "cell_type": "code",
   "execution_count": 13,
   "id": "ce3c894e",
   "metadata": {},
   "outputs": [
    {
     "data": {
      "text/plain": [
       "(0, 1, [2])"
      ]
     },
     "execution_count": 13,
     "metadata": {},
     "output_type": "execute_result"
    }
   ],
   "source": [
    "a, b, *rest = range(3)\n",
    "a, b, rest"
   ]
  },
  {
   "cell_type": "code",
   "execution_count": 14,
   "id": "9012c90f",
   "metadata": {},
   "outputs": [
    {
     "data": {
      "text/plain": [
       "(0, 1, [])"
      ]
     },
     "execution_count": 14,
     "metadata": {},
     "output_type": "execute_result"
    }
   ],
   "source": [
    "a, b, *rest = range(2)\n",
    "a, b, rest"
   ]
  },
  {
   "cell_type": "code",
   "execution_count": null,
   "id": "ec16ab5b",
   "metadata": {},
   "outputs": [],
   "source": []
  }
 ],
 "metadata": {
  "kernelspec": {
   "display_name": "Python 3 (ipykernel)",
   "language": "python",
   "name": "python3"
  },
  "language_info": {
   "codemirror_mode": {
    "name": "ipython",
    "version": 3
   },
   "file_extension": ".py",
   "mimetype": "text/x-python",
   "name": "python",
   "nbconvert_exporter": "python",
   "pygments_lexer": "ipython3",
   "version": "3.7.13"
  }
 },
 "nbformat": 4,
 "nbformat_minor": 5
}
