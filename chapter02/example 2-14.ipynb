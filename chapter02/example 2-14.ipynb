{
 "cells": [
  {
   "cell_type": "markdown",
   "id": "9fd11f88",
   "metadata": {},
   "source": [
    "`*=` 연산자를 가변 시퀀스와 불변 시퀀스에 적용한 예 - 가변 시퀀스"
   ]
  },
  {
   "cell_type": "code",
   "execution_count": 1,
   "id": "796a28f6",
   "metadata": {},
   "outputs": [
    {
     "data": {
      "text/plain": [
       "4382887880"
      ]
     },
     "execution_count": 1,
     "metadata": {},
     "output_type": "execute_result"
    }
   ],
   "source": [
    "l = [1, 2, 3]\n",
    "id(l)"
   ]
  },
  {
   "cell_type": "code",
   "execution_count": 2,
   "id": "200a1751",
   "metadata": {},
   "outputs": [
    {
     "data": {
      "text/plain": [
       "[1, 2, 3, 1, 2, 3]"
      ]
     },
     "execution_count": 2,
     "metadata": {},
     "output_type": "execute_result"
    }
   ],
   "source": [
    "l *= 2\n",
    "l"
   ]
  },
  {
   "cell_type": "code",
   "execution_count": 3,
   "id": "04d0cc5e",
   "metadata": {},
   "outputs": [
    {
     "data": {
      "text/plain": [
       "4382887880"
      ]
     },
     "execution_count": 3,
     "metadata": {},
     "output_type": "execute_result"
    }
   ],
   "source": [
    "id(l)"
   ]
  },
  {
   "cell_type": "markdown",
   "id": "f3e13735",
   "metadata": {},
   "source": [
    "`*=` 연산자를 가변 시퀀스와 불변 시퀀스에 적용한 예 - 불변 시퀀스"
   ]
  },
  {
   "cell_type": "code",
   "execution_count": 5,
   "id": "1748503a",
   "metadata": {},
   "outputs": [
    {
     "data": {
      "text/plain": [
       "4382832744"
      ]
     },
     "execution_count": 5,
     "metadata": {},
     "output_type": "execute_result"
    }
   ],
   "source": [
    "t = (1, 2, 3)\n",
    "id(t)"
   ]
  },
  {
   "cell_type": "code",
   "execution_count": 6,
   "id": "a1bc48e1",
   "metadata": {},
   "outputs": [
    {
     "data": {
      "text/plain": [
       "(1, 2, 3, 1, 2, 3)"
      ]
     },
     "execution_count": 6,
     "metadata": {},
     "output_type": "execute_result"
    }
   ],
   "source": [
    "t *= 2\n",
    "t"
   ]
  },
  {
   "cell_type": "code",
   "execution_count": 7,
   "id": "fa392eb2",
   "metadata": {},
   "outputs": [
    {
     "data": {
      "text/plain": [
       "4381547784"
      ]
     },
     "execution_count": 7,
     "metadata": {},
     "output_type": "execute_result"
    }
   ],
   "source": [
    "id(t)"
   ]
  },
  {
   "cell_type": "code",
   "execution_count": null,
   "id": "0457f126",
   "metadata": {},
   "outputs": [],
   "source": []
  }
 ],
 "metadata": {
  "kernelspec": {
   "display_name": "Python 3 (ipykernel)",
   "language": "python",
   "name": "python3"
  },
  "language_info": {
   "codemirror_mode": {
    "name": "ipython",
    "version": 3
   },
   "file_extension": ".py",
   "mimetype": "text/x-python",
   "name": "python",
   "nbconvert_exporter": "python",
   "pygments_lexer": "ipython3",
   "version": "3.7.13"
  }
 },
 "nbformat": 4,
 "nbformat_minor": 5
}
