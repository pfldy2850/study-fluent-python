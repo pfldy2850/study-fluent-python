{
 "cells": [
  {
   "cell_type": "markdown",
   "id": "b21507f5",
   "metadata": {},
   "source": [
    "문자열에서 유니코드 코드포인트 리스트 만들기 (버전1)"
   ]
  },
  {
   "cell_type": "code",
   "execution_count": 1,
   "id": "dd04026e",
   "metadata": {},
   "outputs": [
    {
     "data": {
      "text/plain": [
       "[65, 66, 67, 68, 69, 70]"
      ]
     },
     "execution_count": 1,
     "metadata": {},
     "output_type": "execute_result"
    }
   ],
   "source": [
    "symbols = 'ABCDEF'\n",
    "codes = []\n",
    "for symbol in symbols:\n",
    "    codes.append(ord(symbol))\n",
    "codes"
   ]
  },
  {
   "cell_type": "markdown",
   "id": "a7d88473",
   "metadata": {},
   "source": [
    "----\n",
    "문자열에서 유니코드 코드포인트 리스트 만들기 (버전2)"
   ]
  },
  {
   "cell_type": "code",
   "execution_count": 2,
   "id": "61eef91a",
   "metadata": {},
   "outputs": [
    {
     "data": {
      "text/plain": [
       "[65, 66, 67, 68, 69, 70]"
      ]
     },
     "execution_count": 2,
     "metadata": {},
     "output_type": "execute_result"
    }
   ],
   "source": [
    "symbols = 'ABCDEF'\n",
    "codes = [ord(symbol) for symbol in symbols]\n",
    "codes"
   ]
  },
  {
   "cell_type": "markdown",
   "id": "1d21b9d4",
   "metadata": {},
   "source": [
    "----\n",
    "지능형 리스트와 맵/필터 구성으로 만든 동일 리스트"
   ]
  },
  {
   "cell_type": "code",
   "execution_count": 3,
   "id": "b1af9564",
   "metadata": {},
   "outputs": [
    {
     "data": {
      "text/plain": [
       "[]"
      ]
     },
     "execution_count": 3,
     "metadata": {},
     "output_type": "execute_result"
    }
   ],
   "source": [
    "symbols = 'ABCD$EF'\n",
    "beyond_ascii = [ord(s) for s in symbols if ord(s) > 127]\n",
    "beyond_ascii"
   ]
  },
  {
   "cell_type": "code",
   "execution_count": 4,
   "id": "b07d6323",
   "metadata": {},
   "outputs": [
    {
     "data": {
      "text/plain": [
       "[]"
      ]
     },
     "execution_count": 4,
     "metadata": {},
     "output_type": "execute_result"
    }
   ],
   "source": [
    "symbols = 'ABCD$EF'\n",
    "beyond_ascii = list(filter(lambda c: c > 127, map(ord, symbols)))\n",
    "beyond_ascii"
   ]
  },
  {
   "cell_type": "code",
   "execution_count": null,
   "id": "5881f526",
   "metadata": {},
   "outputs": [],
   "source": []
  }
 ],
 "metadata": {
  "kernelspec": {
   "display_name": "Python 3 (ipykernel)",
   "language": "python",
   "name": "python3"
  },
  "language_info": {
   "codemirror_mode": {
    "name": "ipython",
    "version": 3
   },
   "file_extension": ".py",
   "mimetype": "text/x-python",
   "name": "python",
   "nbconvert_exporter": "python",
   "pygments_lexer": "ipython3",
   "version": "3.7.13"
  }
 },
 "nbformat": 4,
 "nbformat_minor": 5
}
