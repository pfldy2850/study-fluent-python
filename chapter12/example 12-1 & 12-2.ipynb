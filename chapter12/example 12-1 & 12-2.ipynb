{
 "cells": [
  {
   "cell_type": "markdown",
   "id": "258e5261-227c-43ca-84b8-5dc7d0ed65eb",
   "metadata": {},
   "source": [
    "### Example 12-1"
   ]
  },
  {
   "cell_type": "code",
   "execution_count": 5,
   "id": "d8d8aa53-a26b-4f0e-b536-1f47fb7e1857",
   "metadata": {},
   "outputs": [],
   "source": [
    "class DoppelDict(dict):\n",
    "    def __setitem__(self, key, value):\n",
    "        super().__setitem__(key, [value] * 2)\n",
    "\n",
    "dd = DoppelDict(one=1)"
   ]
  },
  {
   "cell_type": "code",
   "execution_count": 6,
   "id": "78e7b6e2-55a8-4fd3-b37b-91016b5d8caf",
   "metadata": {},
   "outputs": [
    {
     "data": {
      "text/plain": [
       "{'one': 1}"
      ]
     },
     "execution_count": 6,
     "metadata": {},
     "output_type": "execute_result"
    }
   ],
   "source": [
    "dd"
   ]
  },
  {
   "cell_type": "code",
   "execution_count": 7,
   "id": "b36d1c7c-0523-4234-a546-55f85990e7c1",
   "metadata": {},
   "outputs": [
    {
     "data": {
      "text/plain": [
       "{'one': 1, 'two': [2, 2]}"
      ]
     },
     "execution_count": 7,
     "metadata": {},
     "output_type": "execute_result"
    }
   ],
   "source": [
    "dd['two'] = 2\n",
    "dd"
   ]
  },
  {
   "cell_type": "code",
   "execution_count": 8,
   "id": "cb7f47f9-285c-44b9-8bec-297fac41c551",
   "metadata": {},
   "outputs": [
    {
     "data": {
      "text/plain": [
       "{'one': 1, 'two': [2, 2], 'three': 3}"
      ]
     },
     "execution_count": 8,
     "metadata": {},
     "output_type": "execute_result"
    }
   ],
   "source": [
    "dd.update(three=3)\n",
    "dd"
   ]
  },
  {
   "cell_type": "markdown",
   "id": "31365ac5-e046-4778-acfe-8acef84329d9",
   "metadata": {},
   "source": [
    "### Example 12-2"
   ]
  },
  {
   "cell_type": "code",
   "execution_count": 9,
   "id": "3fb4f786-26d9-481c-b6ff-0ee24ff0630e",
   "metadata": {},
   "outputs": [
    {
     "data": {
      "text/plain": [
       "42"
      ]
     },
     "execution_count": 9,
     "metadata": {},
     "output_type": "execute_result"
    }
   ],
   "source": [
    "class AnswerDict(dict):\n",
    "    def __getitem__(self, key):\n",
    "        return 42\n",
    "    \n",
    "ad = AnswerDict(a='foo')\n",
    "ad['a']"
   ]
  },
  {
   "cell_type": "code",
   "execution_count": 10,
   "id": "5413abbf-acbf-4e11-b8d0-e8dd3fe668dd",
   "metadata": {},
   "outputs": [],
   "source": [
    "d = {}"
   ]
  },
  {
   "cell_type": "code",
   "execution_count": 11,
   "id": "896a7820-fb9d-4468-865d-dfa180c4c7e8",
   "metadata": {},
   "outputs": [
    {
     "data": {
      "text/plain": [
       "'foo'"
      ]
     },
     "execution_count": 11,
     "metadata": {},
     "output_type": "execute_result"
    }
   ],
   "source": [
    "d.update(ad)\n",
    "d['a']"
   ]
  },
  {
   "cell_type": "code",
   "execution_count": 12,
   "id": "4149e4e6-9414-43dc-a22f-3264637e226a",
   "metadata": {},
   "outputs": [
    {
     "data": {
      "text/plain": [
       "{'a': 'foo'}"
      ]
     },
     "execution_count": 12,
     "metadata": {},
     "output_type": "execute_result"
    }
   ],
   "source": [
    "d"
   ]
  },
  {
   "cell_type": "code",
   "execution_count": null,
   "id": "6e8cd688-2a7a-4cbd-b19f-7e006610cf5a",
   "metadata": {},
   "outputs": [],
   "source": []
  }
 ],
 "metadata": {
  "kernelspec": {
   "display_name": "Python 3 (ipykernel)",
   "language": "python",
   "name": "python3"
  },
  "language_info": {
   "codemirror_mode": {
    "name": "ipython",
    "version": 3
   },
   "file_extension": ".py",
   "mimetype": "text/x-python",
   "name": "python",
   "nbconvert_exporter": "python",
   "pygments_lexer": "ipython3",
   "version": "3.7.13"
  }
 },
 "nbformat": 4,
 "nbformat_minor": 5
}
