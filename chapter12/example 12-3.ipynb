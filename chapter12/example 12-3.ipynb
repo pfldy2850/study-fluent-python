{
 "cells": [
  {
   "cell_type": "markdown",
   "id": "fe55f42e-36c9-40df-954e-8095f57468db",
   "metadata": {},
   "source": [
    "### Example 12-3"
   ]
  },
  {
   "cell_type": "code",
   "execution_count": 1,
   "id": "2323235a-5c00-4873-b0ad-81c99b22eb98",
   "metadata": {},
   "outputs": [
    {
     "data": {
      "text/plain": [
       "{'one': [1, 1]}"
      ]
     },
     "execution_count": 1,
     "metadata": {},
     "output_type": "execute_result"
    }
   ],
   "source": [
    "import collections\n",
    "\n",
    "class DoppelDict2(collections.UserDict):\n",
    "    def __setitem__(self, key, value):\n",
    "        super().__setitem__(key, [value] * 2)\n",
    "        \n",
    "dd = DoppelDict2(one=1)\n",
    "dd"
   ]
  },
  {
   "cell_type": "code",
   "execution_count": 2,
   "id": "0e76a1ed-587a-44ff-8e22-4864be091fe7",
   "metadata": {},
   "outputs": [
    {
     "data": {
      "text/plain": [
       "{'one': [1, 1], 'two': [2, 2]}"
      ]
     },
     "execution_count": 2,
     "metadata": {},
     "output_type": "execute_result"
    }
   ],
   "source": [
    "dd['two'] = 2\n",
    "dd"
   ]
  },
  {
   "cell_type": "code",
   "execution_count": 3,
   "id": "a446b231-25a4-4432-888d-eb3f6c504729",
   "metadata": {},
   "outputs": [
    {
     "data": {
      "text/plain": [
       "{'one': [1, 1], 'two': [2, 2], 'three': [3, 3]}"
      ]
     },
     "execution_count": 3,
     "metadata": {},
     "output_type": "execute_result"
    }
   ],
   "source": [
    "dd.update(three=3)\n",
    "dd"
   ]
  },
  {
   "cell_type": "code",
   "execution_count": 4,
   "id": "ff832b0c-724c-48c9-a383-fb151f516be4",
   "metadata": {},
   "outputs": [
    {
     "data": {
      "text/plain": [
       "{'a': 'foo'}"
      ]
     },
     "execution_count": 4,
     "metadata": {},
     "output_type": "execute_result"
    }
   ],
   "source": [
    "class AnswerDict2(collections.UserDict):\n",
    "    def __getitem__(sef, key):\n",
    "        return 42\n",
    "\n",
    "ad = AnswerDict2(a='foo')\n",
    "ad"
   ]
  },
  {
   "cell_type": "code",
   "execution_count": 5,
   "id": "720c91c3-fce4-47ca-bd3a-75e33a035952",
   "metadata": {},
   "outputs": [
    {
     "data": {
      "text/plain": [
       "42"
      ]
     },
     "execution_count": 5,
     "metadata": {},
     "output_type": "execute_result"
    }
   ],
   "source": [
    "ad['a']"
   ]
  },
  {
   "cell_type": "code",
   "execution_count": 6,
   "id": "07c7f65c-490d-4f0b-8330-a25f9798745a",
   "metadata": {},
   "outputs": [
    {
     "data": {
      "text/plain": [
       "42"
      ]
     },
     "execution_count": 6,
     "metadata": {},
     "output_type": "execute_result"
    }
   ],
   "source": [
    "d = {}\n",
    "d.update(ad)\n",
    "d['a']"
   ]
  },
  {
   "cell_type": "code",
   "execution_count": 7,
   "id": "c1b7b6eb-f6e9-4421-8a90-92b42474719d",
   "metadata": {},
   "outputs": [
    {
     "data": {
      "text/plain": [
       "{'a': 42}"
      ]
     },
     "execution_count": 7,
     "metadata": {},
     "output_type": "execute_result"
    }
   ],
   "source": [
    "d"
   ]
  },
  {
   "cell_type": "code",
   "execution_count": null,
   "id": "597868d3-9a00-4309-8fc7-0cbdf1d03735",
   "metadata": {},
   "outputs": [],
   "source": []
  }
 ],
 "metadata": {
  "kernelspec": {
   "display_name": "Python 3 (ipykernel)",
   "language": "python",
   "name": "python3"
  },
  "language_info": {
   "codemirror_mode": {
    "name": "ipython",
    "version": 3
   },
   "file_extension": ".py",
   "mimetype": "text/x-python",
   "name": "python",
   "nbconvert_exporter": "python",
   "pygments_lexer": "ipython3",
   "version": "3.7.13"
  }
 },
 "nbformat": 4,
 "nbformat_minor": 5
}
